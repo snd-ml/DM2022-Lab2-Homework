{
 "cells": [
  {
   "cell_type": "markdown",
   "metadata": {},
   "source": [
    "### Student Information\n",
    "Name: Suraj Dengale\n",
    "\n",
    "Student ID: 110061423\n",
    "\n",
    "GitHub ID: snd-ml (https://github.com/snd-ml)\n",
    "\n",
    "Kaggle name: Suraj\n",
    "\n",
    "Kaggle private scoreboard snapshot:\n",
    "\n",
    "[Snapshot](img/pic0.png)"
   ]
  },
  {
   "cell_type": "markdown",
   "metadata": {},
   "source": [
    "### Instructions"
   ]
  },
  {
   "cell_type": "markdown",
   "metadata": {},
   "source": [
    "1. First: __This part is worth 30% of your grade.__ Do the **take home** exercises in the [DM2022-Lab2-master Repo](https://github.com/keziatamus/DM2022-Lab2-Master). You may need to copy some cells from the Lab notebook to this notebook. \n",
    "\n",
    "\n",
    "2. Second: __This part is worth 30% of your grade.__ Participate in the in-class [Kaggle Competition](https://www.kaggle.com/competitions/dm2022-isa5810-lab2-homework) regarding Emotion Recognition on Twitter by this link https://www.kaggle.com/t/2b0d14a829f340bc88d2660dc602d4bd. The scoring will be given according to your place in the Private Leaderboard ranking: \n",
    "    - **Bottom 40%**: Get 20% of the 30% available for this section.\n",
    "\n",
    "    - **Top 41% - 100%**: Get (60-x)/6 + 20 points, where x is your ranking in the leaderboard (ie. If you rank 3rd your score will be (60-3)/6 + 20 = 29.5% out of 30%)   \n",
    "    Submit your last submission __BEFORE the deadline (Nov. 22th 11:59 pm, Tuesday)_. Make sure to take a screenshot of your position at the end of the competition and store it as '''pic0.png''' under the **img** folder of this repository and rerun the cell **Student Information**.\n",
    "    \n",
    "\n",
    "3. Third: __This part is worth 30% of your grade.__ A report of your work developping the model for the competition (You can use code and comment it). This report should include what your preprocessing steps, the feature engineering steps and an explanation of your model. You can also mention different things you tried and insights you gained. \n",
    "\n",
    "\n",
    "4. Fourth: __This part is worth 10% of your grade.__ It's hard for us to follow if your code is messy :'(, so please **tidy up your notebook** and **add minimal comments where needed**.\n",
    "\n",
    "\n",
    "Upload your files to your repository then submit the link to it on the corresponding e-learn assignment.\n",
    "\n",
    "Make sure to commit and save your changes to your repository __BEFORE the deadline (Nov. 25th 11:59 pm, Friday)__. "
   ]
  },
  {
   "cell_type": "code",
   "execution_count": 2,
   "metadata": {
    "execution": {
     "iopub.execute_input": "2022-11-21T14:18:17.492129Z",
     "iopub.status.busy": "2022-11-21T14:18:17.491716Z",
     "iopub.status.idle": "2022-11-21T14:18:17.581934Z",
     "shell.execute_reply": "2022-11-21T14:18:17.580851Z",
     "shell.execute_reply.started": "2022-11-21T14:18:17.492097Z"
    },
    "id": "anfjcPSSYTpX"
   },
   "outputs": [],
   "source": [
    "import pandas as pd\n",
    "\n",
    "### training data\n",
    "anger_train = pd.read_csv(\"../input/lab2-dataset/data/semeval/train/anger-ratings-0to1.train.txt\",\n",
    "                         sep=\"\\t\", header=None,names=[\"id\", \"text\", \"emotion\", \"intensity\"])\n",
    "sadness_train = pd.read_csv(\"../input/lab2-dataset/data/semeval/train/sadness-ratings-0to1.train.txt\",\n",
    "                         sep=\"\\t\", header=None, names=[\"id\", \"text\", \"emotion\", \"intensity\"])\n",
    "fear_train = pd.read_csv(\"../input/lab2-dataset/data/semeval/train/fear-ratings-0to1.train.txt\",\n",
    "                         sep=\"\\t\", header=None, names=[\"id\", \"text\", \"emotion\", \"intensity\"])\n",
    "joy_train = pd.read_csv(\"../input/lab2-dataset/data/semeval/train/joy-ratings-0to1.train.txt\",\n",
    "                         sep=\"\\t\", header=None, names=[\"id\", \"text\", \"emotion\", \"intensity\"])"
   ]
  },
  {
   "cell_type": "code",
   "execution_count": 3,
   "metadata": {
    "execution": {
     "iopub.execute_input": "2022-11-21T14:18:17.585258Z",
     "iopub.status.busy": "2022-11-21T14:18:17.584563Z",
     "iopub.status.idle": "2022-11-21T14:18:17.772549Z",
     "shell.execute_reply": "2022-11-21T14:18:17.771124Z",
     "shell.execute_reply.started": "2022-11-21T14:18:17.585218Z"
    },
    "id": "yVc2T5MIYTpX"
   },
   "outputs": [],
   "source": [
    "# combine 4 sub-dataset\n",
    "train_df = pd.concat([anger_train, fear_train, joy_train, sadness_train], ignore_index=True)"
   ]
  },
  {
   "cell_type": "code",
   "execution_count": 4,
   "metadata": {
    "execution": {
     "iopub.execute_input": "2022-11-21T14:18:17.774680Z",
     "iopub.status.busy": "2022-11-21T14:18:17.774236Z",
     "iopub.status.idle": "2022-11-21T14:18:17.848256Z",
     "shell.execute_reply": "2022-11-21T14:18:17.847133Z",
     "shell.execute_reply.started": "2022-11-21T14:18:17.774636Z"
    },
    "id": "Kw8bGMv7YTpX",
    "outputId": "9f6f7052-302e-4794-ef69-b84450b61b36"
   },
   "outputs": [
    {
     "data": {
      "text/html": [
       "<div>\n",
       "<style scoped>\n",
       "    .dataframe tbody tr th:only-of-type {\n",
       "        vertical-align: middle;\n",
       "    }\n",
       "\n",
       "    .dataframe tbody tr th {\n",
       "        vertical-align: top;\n",
       "    }\n",
       "\n",
       "    .dataframe thead th {\n",
       "        text-align: right;\n",
       "    }\n",
       "</style>\n",
       "<table border=\"1\" class=\"dataframe\">\n",
       "  <thead>\n",
       "    <tr style=\"text-align: right;\">\n",
       "      <th></th>\n",
       "      <th>id</th>\n",
       "      <th>text</th>\n",
       "      <th>emotion</th>\n",
       "      <th>intensity</th>\n",
       "    </tr>\n",
       "  </thead>\n",
       "  <tbody>\n",
       "    <tr>\n",
       "      <th>0</th>\n",
       "      <td>10000</td>\n",
       "      <td>How the fu*k! Who the heck! moved my fridge!.....</td>\n",
       "      <td>anger</td>\n",
       "      <td>0.938</td>\n",
       "    </tr>\n",
       "    <tr>\n",
       "      <th>1</th>\n",
       "      <td>10001</td>\n",
       "      <td>So my Indian Uber driver just called someone t...</td>\n",
       "      <td>anger</td>\n",
       "      <td>0.896</td>\n",
       "    </tr>\n",
       "    <tr>\n",
       "      <th>2</th>\n",
       "      <td>10002</td>\n",
       "      <td>@DPD_UK I asked for my parcel to be delivered ...</td>\n",
       "      <td>anger</td>\n",
       "      <td>0.896</td>\n",
       "    </tr>\n",
       "    <tr>\n",
       "      <th>3</th>\n",
       "      <td>10003</td>\n",
       "      <td>so ef whichever butt wipe pulled the fire alar...</td>\n",
       "      <td>anger</td>\n",
       "      <td>0.896</td>\n",
       "    </tr>\n",
       "    <tr>\n",
       "      <th>4</th>\n",
       "      <td>10004</td>\n",
       "      <td>Don't join @BTCare they put the phone down on ...</td>\n",
       "      <td>anger</td>\n",
       "      <td>0.896</td>\n",
       "    </tr>\n",
       "  </tbody>\n",
       "</table>\n",
       "</div>"
      ],
      "text/plain": [
       "      id                                               text emotion  intensity\n",
       "0  10000  How the fu*k! Who the heck! moved my fridge!.....   anger      0.938\n",
       "1  10001  So my Indian Uber driver just called someone t...   anger      0.896\n",
       "2  10002  @DPD_UK I asked for my parcel to be delivered ...   anger      0.896\n",
       "3  10003  so ef whichever butt wipe pulled the fire alar...   anger      0.896\n",
       "4  10004  Don't join @BTCare they put the phone down on ...   anger      0.896"
      ]
     },
     "execution_count": 4,
     "metadata": {},
     "output_type": "execute_result"
    }
   ],
   "source": [
    "### testing data\n",
    "anger_test = pd.read_csv(\"../input/lab2-dataset/data/semeval/dev/anger-ratings-0to1.dev.gold.txt\",\n",
    "                         sep=\"\\t\", header=None,names=[\"id\", \"text\", \"emotion\", \"intensity\"])\n",
    "sadness_test = pd.read_csv(\"../input/lab2-dataset/data/semeval/dev/sadness-ratings-0to1.dev.gold.txt\",\n",
    "                         sep=\"\\t\", header=None, names=[\"id\", \"text\", \"emotion\", \"intensity\"])\n",
    "fear_test = pd.read_csv(\"../input/lab2-dataset/data/semeval/dev/fear-ratings-0to1.dev.gold.txt\",\n",
    "                         sep=\"\\t\", header=None, names=[\"id\", \"text\", \"emotion\", \"intensity\"])\n",
    "joy_test = pd.read_csv(\"../input/lab2-dataset/data/semeval/dev/joy-ratings-0to1.dev.gold.txt\",\n",
    "                         sep=\"\\t\", header=None, names=[\"id\", \"text\", \"emotion\", \"intensity\"])\n",
    "\n",
    "# combine 4 sub-dataset\n",
    "test_df = pd.concat([anger_test, fear_test, joy_test, sadness_test], ignore_index=True)\n",
    "train_df.head()"
   ]
  },
  {
   "cell_type": "code",
   "execution_count": 5,
   "metadata": {
    "execution": {
     "iopub.execute_input": "2022-11-21T14:18:17.851632Z",
     "iopub.status.busy": "2022-11-21T14:18:17.850850Z",
     "iopub.status.idle": "2022-11-21T14:18:17.860943Z",
     "shell.execute_reply": "2022-11-21T14:18:17.859939Z",
     "shell.execute_reply.started": "2022-11-21T14:18:17.851585Z"
    },
    "id": "HBHwcL8sYTpX"
   },
   "outputs": [],
   "source": [
    "# shuffle dataset\n",
    "train_df = train_df.sample(frac=1)\n",
    "test_df = test_df.sample(frac=1)"
   ]
  },
  {
   "cell_type": "code",
   "execution_count": 6,
   "metadata": {
    "execution": {
     "iopub.execute_input": "2022-11-21T14:18:17.863300Z",
     "iopub.status.busy": "2022-11-21T14:18:17.862698Z",
     "iopub.status.idle": "2022-11-21T14:18:17.870263Z",
     "shell.execute_reply": "2022-11-21T14:18:17.868965Z",
     "shell.execute_reply.started": "2022-11-21T14:18:17.863264Z"
    },
    "id": "9w_cDUwCYTpX",
    "outputId": "3582ac44-1f5f-4cb2-b833-d477f152461a",
    "scrolled": true
   },
   "outputs": [
    {
     "name": "stdout",
     "output_type": "stream",
     "text": [
      "Shape of Training df:  (3613, 4)\n",
      "Shape of Testing df:  (347, 4)\n"
     ]
    }
   ],
   "source": [
    "print(\"Shape of Training df: \", train_df.shape)\n",
    "print(\"Shape of Testing df: \", test_df.shape)"
   ]
  },
  {
   "cell_type": "markdown",
   "metadata": {
    "id": "escCgU1zYTpX"
   },
   "source": [
    "---\n",
    "### ** >>> Exercise 1 (Take home): **  \n",
    "Plot word frequency for Top 30 words in both train and test dataset. (Hint: refer to DM lab 1)\n"
   ]
  },
  {
   "cell_type": "code",
   "execution_count": null,
   "metadata": {
    "execution": {
     "iopub.execute_input": "2022-11-21T14:18:17.872810Z",
     "iopub.status.busy": "2022-11-21T14:18:17.872386Z",
     "iopub.status.idle": "2022-11-21T14:18:21.432660Z",
     "shell.execute_reply": "2022-11-21T14:18:21.431531Z",
     "shell.execute_reply.started": "2022-11-21T14:18:17.872754Z"
    },
    "id": "HoXjet3pYTpo"
   },
   "outputs": [],
   "source": [
    "# Answer here\n",
    "import numpy as np\n",
    "import plotly.express as px\n",
    "from sklearn.feature_extraction.text import CountVectorizer\n",
    "train_count_vect = CountVectorizer()\n",
    "test_count_vect = CountVectorizer()\n",
    "train_dataset_counts = train_count_vect.fit_transform(train_df.text)\n",
    "test_dataset_counts = test_count_vect.fit_transform(test_df.text)\n",
    "train_term_frequencies = np.asarray(train_dataset_counts.sum(axis=0))[0]\n",
    "test_term_frequencies = np.asarray(test_dataset_counts.sum(axis=0))[0]\n",
    "df = pd.DataFrame(train_term_frequencies[:30])\n",
    "tf = pd.DataFrame((df).values,index=train_count_vect.get_feature_names_out()[:30], columns={\"term_frequency\"})\n",
    "fig = px.line(tf, y=\"term_frequency\", x=train_count_vect.get_feature_names_out()[:30])\n",
    "print(fig.show())\n"
   ]
  },
  {
   "attachments": {
    "term_frequency_30.png": {
     "image/png": "[encoded data removed]"
    }
   },
   "cell_type": "markdown",
   "metadata": {},
   "source": [
    "![term_frequency_30.png](attachment:term_frequency_30.png)"
   ]
  },
  {
   "cell_type": "markdown",
   "metadata": {
    "id": "fj6TV4ngYTpo"
   },
   "source": [
    "---\n",
    "### ** >>> Exercise 2 (Take home): **  \n",
    "Generate an embedding using the TF-IDF vectorizer instead of th BOW one with 1000 features and show the feature names for features [100:110]."
   ]
  },
  {
   "cell_type": "code",
   "execution_count": 25,
   "metadata": {
    "execution": {
     "iopub.execute_input": "2022-11-21T14:18:24.147348Z",
     "iopub.status.busy": "2022-11-21T14:18:24.146895Z",
     "iopub.status.idle": "2022-11-21T14:18:25.506097Z",
     "shell.execute_reply": "2022-11-21T14:18:25.505073Z",
     "shell.execute_reply.started": "2022-11-21T14:18:24.147312Z"
    },
    "id": "BOjVbgmxYTpo"
   },
   "outputs": [
    {
     "name": "stderr",
     "output_type": "stream",
     "text": [
      "[nltk_data] Downloading package punkt to /usr/share/nltk_data...\n",
      "[nltk_data]   Package punkt is already up-to-date!\n"
     ]
    },
    {
     "data": {
      "text/plain": [
       "(3613, 1000)"
      ]
     },
     "execution_count": 25,
     "metadata": {},
     "output_type": "execute_result"
    }
   ],
   "source": [
    "# Answer here\n",
    "import nltk\n",
    "nltk.download('punkt')\n",
    "from sklearn.feature_extraction.text import TfidfVectorizer\n",
    "tfidf = TfidfVectorizer(max_features=1000, tokenizer=nltk.word_tokenize)\n",
    "trainf = tfidf.fit_transform(train_df['text'])\n",
    "testf = tfidf.transform(test_df['text'])\n",
    "trainf.shape"
   ]
  },
  {
   "cell_type": "code",
   "execution_count": 26,
   "metadata": {
    "execution": {
     "iopub.execute_input": "2022-11-21T14:18:25.507814Z",
     "iopub.status.busy": "2022-11-21T14:18:25.507382Z",
     "iopub.status.idle": "2022-11-21T14:18:25.520081Z",
     "shell.execute_reply": "2022-11-21T14:18:25.519087Z",
     "shell.execute_reply.started": "2022-11-21T14:18:25.507779Z"
    }
   },
   "outputs": [
    {
     "name": "stderr",
     "output_type": "stream",
     "text": [
      "/opt/conda/lib/python3.7/site-packages/sklearn/utils/deprecation.py:87: FutureWarning:\n",
      "\n",
      "Function get_feature_names is deprecated; get_feature_names is deprecated in 1.0 and will be removed in 1.2. Please use get_feature_names_out instead.\n",
      "\n"
     ]
    },
    {
     "data": {
      "text/plain": [
       "['awful', 'b', 'baby', 'back', 'bad', 'ball', 'balls', 'bb18', 'bc', 'bday']"
      ]
     },
     "execution_count": 26,
     "metadata": {},
     "output_type": "execute_result"
    }
   ],
   "source": [
    "feature_names_tfidf = tfidf.get_feature_names()\n",
    "feature_names_tfidf[100:110]"
   ]
  },
  {
   "cell_type": "code",
   "execution_count": 29,
   "metadata": {
    "execution": {
     "iopub.execute_input": "2022-11-21T14:18:26.649616Z",
     "iopub.status.busy": "2022-11-21T14:18:26.649304Z",
     "iopub.status.idle": "2022-11-21T14:18:26.660552Z",
     "shell.execute_reply": "2022-11-21T14:18:26.659329Z",
     "shell.execute_reply.started": "2022-11-21T14:18:26.649587Z"
    },
    "id": "A9yx3tv-YTpo",
    "outputId": "0b1e4f04-d7a5-4e0d-8351-66c2b802cc42"
   },
   "outputs": [
    {
     "name": "stdout",
     "output_type": "stream",
     "text": [
      "training accuracy: 0.99\n",
      "testing accuracy: 0.66\n"
     ]
    }
   ],
   "source": [
    "## accuracy\n",
    "from sklearn.metrics import accuracy_score\n",
    "\n",
    "acc_train = accuracy_score(y_true=y_train, y_pred=y_train_pred)\n",
    "acc_test = accuracy_score(y_true=y_test, y_pred=y_test_pred)\n",
    "\n",
    "print('training accuracy: {}'.format(round(acc_train, 2)))\n",
    "print('testing accuracy: {}'.format(round(acc_test, 2)))\n"
   ]
  },
  {
   "cell_type": "code",
   "execution_count": 30,
   "metadata": {
    "execution": {
     "iopub.execute_input": "2022-11-21T14:18:26.663325Z",
     "iopub.status.busy": "2022-11-21T14:18:26.662436Z",
     "iopub.status.idle": "2022-11-21T14:18:26.683985Z",
     "shell.execute_reply": "2022-11-21T14:18:26.682842Z",
     "shell.execute_reply.started": "2022-11-21T14:18:26.663229Z"
    },
    "id": "-wkOqjqiYTpo",
    "outputId": "f0538316-514a-4894-fb0f-ccc73204f598"
   },
   "outputs": [
    {
     "name": "stdout",
     "output_type": "stream",
     "text": [
      "              precision    recall  f1-score   support\n",
      "\n",
      "       anger       0.63      0.65      0.64        84\n",
      "        fear       0.66      0.69      0.68       110\n",
      "         joy       0.70      0.68      0.69        79\n",
      "     sadness       0.65      0.59      0.62        74\n",
      "\n",
      "    accuracy                           0.66       347\n",
      "   macro avg       0.66      0.66      0.66       347\n",
      "weighted avg       0.66      0.66      0.66       347\n",
      "\n"
     ]
    }
   ],
   "source": [
    "## precision, recall, f1-score,\n",
    "from sklearn.metrics import classification_report\n",
    "\n",
    "print(classification_report(y_true=y_test, y_pred=y_test_pred))"
   ]
  },
  {
   "cell_type": "code",
   "execution_count": 31,
   "metadata": {
    "execution": {
     "iopub.execute_input": "2022-11-21T14:18:26.686406Z",
     "iopub.status.busy": "2022-11-21T14:18:26.685639Z",
     "iopub.status.idle": "2022-11-21T14:18:26.696116Z",
     "shell.execute_reply": "2022-11-21T14:18:26.694582Z",
     "shell.execute_reply.started": "2022-11-21T14:18:26.686358Z"
    },
    "id": "N6mhrmKHYTpo",
    "outputId": "30efb505-d5e0-41f6-e72a-05302135a4db"
   },
   "outputs": [
    {
     "name": "stdout",
     "output_type": "stream",
     "text": [
      "[[55 20  5  4]\n",
      " [16 76  8 10]\n",
      " [ 7  8 54 10]\n",
      " [ 9 11 10 44]]\n"
     ]
    }
   ],
   "source": [
    "## check by confusion matrix\n",
    "from sklearn.metrics import confusion_matrix\n",
    "\n",
    "cm = confusion_matrix(y_true=y_test, y_pred=y_test_pred) \n",
    "print(cm)"
   ]
  },
  {
   "cell_type": "code",
   "execution_count": 32,
   "metadata": {
    "execution": {
     "iopub.execute_input": "2022-11-21T14:18:26.699089Z",
     "iopub.status.busy": "2022-11-21T14:18:26.698283Z",
     "iopub.status.idle": "2022-11-21T14:18:26.780931Z",
     "shell.execute_reply": "2022-11-21T14:18:26.779935Z",
     "shell.execute_reply.started": "2022-11-21T14:18:26.699046Z"
    },
    "id": "-TcX8NA5YTpo"
   },
   "outputs": [],
   "source": [
    "# Funciton for visualizing confusion_matrix\n",
    "import matplotlib.pyplot as plt\n",
    "import seaborn as sns\n",
    "import numpy as np\n",
    "import itertools\n",
    "\n",
    "def plot_confusion_matrix(cm, classes, title='Confusion matrix',\n",
    "                          cmap=sns.cubehelix_palette(as_cmap=True)):\n",
    "    \"\"\"\n",
    "    This function is modified from: \n",
    "    http://scikit-learn.org/stable/auto_examples/model_selection/plot_confusion_matrix.html\n",
    "    \"\"\"\n",
    "    classes.sort()\n",
    "    tick_marks = np.arange(len(classes))    \n",
    "    \n",
    "    fig, ax = plt.subplots(figsize=(5,5))\n",
    "    im = ax.imshow(cm, interpolation='nearest', cmap=cmap)\n",
    "    ax.figure.colorbar(im, ax=ax)\n",
    "    ax.set(xticks=np.arange(cm.shape[1]),\n",
    "           yticks=np.arange(cm.shape[0]),\n",
    "           xticklabels = classes,\n",
    "           yticklabels = classes,\n",
    "           title = title,\n",
    "           xlabel = 'True label',\n",
    "           ylabel = 'Predicted label')\n",
    "\n",
    "    fmt = 'd'\n",
    "    thresh = cm.max() / 2.\n",
    "    for i, j in itertools.product(range(cm.shape[0]), range(cm.shape[1])):\n",
    "        plt.text(j, i, format(cm[i, j], fmt), horizontalalignment=\"center\", color=\"white\" if cm[i, j] > thresh else \"black\")\n",
    "    ylim_top = len(classes) - 0.5\n",
    "    plt.ylim([ylim_top, -.5])\n",
    "    plt.tight_layout()\n",
    "    plt.show()"
   ]
  },
  {
   "cell_type": "code",
   "execution_count": 33,
   "metadata": {
    "execution": {
     "iopub.execute_input": "2022-11-21T14:18:26.782844Z",
     "iopub.status.busy": "2022-11-21T14:18:26.782464Z",
     "iopub.status.idle": "2022-11-21T14:18:27.096112Z",
     "shell.execute_reply": "2022-11-21T14:18:27.095116Z",
     "shell.execute_reply.started": "2022-11-21T14:18:26.782806Z"
    },
    "id": "1nBVOUpDYTpo",
    "outputId": "7f99188c-1f03-462e-971e-0c8238f4f0d7"
   },
   "outputs": [
    {
     "data": {
      "image/png": "[encoded data removed]",
      "text/plain": [
       "<Figure size 360x360 with 2 Axes>"
      ]
     },
     "metadata": {
      "needs_background": "light"
     },
     "output_type": "display_data"
    }
   ],
   "source": [
    "# plot your confusion matrix\n",
    "my_tags = ['anger', 'fear', 'joy', 'sadness']\n",
    "plot_confusion_matrix(cm, classes=my_tags, title='Confusion matrix')"
   ]
  },
  {
   "cell_type": "markdown",
   "metadata": {
    "id": "l743vmwgYTpo"
   },
   "source": [
    "---\n",
    "### ** >>> Exercise 3 (Take home): **  \n",
    "Can you interpret the results above? What do they mean?"
   ]
  },
  {
   "cell_type": "markdown",
   "metadata": {
    "execution": {
     "iopub.execute_input": "2022-11-21T10:03:20.646399Z",
     "iopub.status.busy": "2022-11-21T10:03:20.646000Z",
     "iopub.status.idle": "2022-11-21T10:03:20.656299Z",
     "shell.execute_reply": "2022-11-21T10:03:20.654856Z",
     "shell.execute_reply.started": "2022-11-21T10:03:20.646367Z"
    },
    "id": "8pYICOxsYTpo"
   },
   "source": [
    "### Answer here\n",
    "\n",
    "\n",
    "The model had a greater accuracy in predicting data labeled 'joy'. The performing class in the sadness label is poor. The model has a very high chances of predicting fear. The model predicts - 55 anger , 76 fear , 54 joy , 44 sadness .\n",
    "\n",
    "Because of the overfitting problem, the decision tree remembered multiple critical terms, causing the prediction to be inadequate as we can see there is a difference between training and testing dataset. I also belive there is going to be outliers e.g few people trying to use certain physological tenchiques like sarcasm etc. which might be identified as joy or anger but needs not to be true.\n",
    "\n",
    "We might try to come up with some pre-processing activities to assist us distinguish fear from the rest of the emotions. \n"
   ]
  },
  {
   "cell_type": "markdown",
   "metadata": {
    "id": "GaHpgl87YTpo"
   },
   "source": [
    "---\n",
    "### ** >>> Exercise 4 (Take home): **  \n",
    "Build a model using a ```Naive Bayes``` model and train it. What are the testing results? \n",
    "\n",
    "*Reference*: https://scikit-learn.org/stable/modules/generated/sklearn.naive_bayes.MultinomialNB.html"
   ]
  },
  {
   "cell_type": "code",
   "execution_count": 34,
   "metadata": {
    "execution": {
     "iopub.execute_input": "2022-11-21T14:18:27.098816Z",
     "iopub.status.busy": "2022-11-21T14:18:27.097735Z",
     "iopub.status.idle": "2022-11-21T14:18:27.308748Z",
     "shell.execute_reply": "2022-11-21T14:18:27.306920Z",
     "shell.execute_reply.started": "2022-11-21T14:18:27.098779Z"
    },
    "id": "ZPvaHzpXYTpo"
   },
   "outputs": [
    {
     "data": {
      "text/plain": [
       "array([[0, 0, 0, ..., 0, 0, 0],\n",
       "       [0, 0, 0, ..., 0, 0, 0],\n",
       "       [0, 0, 0, ..., 0, 0, 0],\n",
       "       ...,\n",
       "       [0, 0, 0, ..., 0, 0, 0],\n",
       "       [0, 0, 0, ..., 0, 0, 0],\n",
       "       [0, 0, 0, ..., 0, 0, 0]])"
      ]
     },
     "execution_count": 34,
     "metadata": {},
     "output_type": "execute_result"
    }
   ],
   "source": [
    "# Answer here\n",
    "from sklearn.feature_extraction.text import CountVectorizer\n",
    "\n",
    "# build analyzers (bag-of-words)\n",
    "BOW_vectorizer = CountVectorizer() \n",
    "# 1. Learn a vocabulary dictionary of all tokens in the raw documents.\n",
    "BOW_vectorizer.fit(train_df['text'])\n",
    "\n",
    "# 2. Transform documents to document-term matrix.\n",
    "train_data_BOW_features = BOW_vectorizer.transform(train_df['text'])\n",
    "test_data_BOW_features = BOW_vectorizer.transform(test_df['text'])\n",
    "\n",
    "train_data_BOW_features.toarray()"
   ]
  },
  {
   "cell_type": "code",
   "execution_count": 35,
   "metadata": {
    "execution": {
     "iopub.execute_input": "2022-11-21T14:18:27.310658Z",
     "iopub.status.busy": "2022-11-21T14:18:27.310280Z",
     "iopub.status.idle": "2022-11-21T14:18:28.909922Z",
     "shell.execute_reply": "2022-11-21T14:18:28.909016Z",
     "shell.execute_reply.started": "2022-11-21T14:18:27.310620Z"
    }
   },
   "outputs": [
    {
     "name": "stderr",
     "output_type": "stream",
     "text": [
      "/opt/conda/lib/python3.7/site-packages/sklearn/feature_extraction/text.py:517: UserWarning:\n",
      "\n",
      "The parameter 'token_pattern' will not be used since 'tokenizer' is not None'\n",
      "\n"
     ]
    },
    {
     "data": {
      "text/plain": [
       "(3613, 500)"
      ]
     },
     "execution_count": 35,
     "metadata": {},
     "output_type": "execute_result"
    }
   ],
   "source": [
    "import nltk\n",
    "\n",
    "# build analyzers (bag-of-words)\n",
    "BOW_500 = CountVectorizer(max_features=500, tokenizer=nltk.word_tokenize) \n",
    "\n",
    "# apply analyzer to training data\n",
    "BOW_500.fit(train_df['text'])\n",
    "\n",
    "train_data_BOW_features_500 = BOW_500.transform(train_df['text'])\n",
    "\n",
    "## check dimension\n",
    "train_data_BOW_features_500.shape"
   ]
  },
  {
   "cell_type": "code",
   "execution_count": 36,
   "metadata": {
    "execution": {
     "iopub.execute_input": "2022-11-21T14:18:28.912388Z",
     "iopub.status.busy": "2022-11-21T14:18:28.911619Z",
     "iopub.status.idle": "2022-11-21T14:18:29.795022Z",
     "shell.execute_reply": "2022-11-21T14:18:29.794050Z",
     "shell.execute_reply.started": "2022-11-21T14:18:28.912345Z"
    }
   },
   "outputs": [
    {
     "data": {
      "text/plain": [
       "array(['joy', 'anger', 'fear', 'sadness', 'fear', 'sadness', 'fear',\n",
       "       'fear', 'joy', 'joy'], dtype='<U7')"
      ]
     },
     "execution_count": 36,
     "metadata": {},
     "output_type": "execute_result"
    }
   ],
   "source": [
    "from sklearn.naive_bayes import MultinomialNB\n",
    "X_train = BOW_500.transform(train_df['text'])\n",
    "y_train = train_df['emotion']\n",
    "\n",
    "X_test = BOW_500.transform(test_df['text'])\n",
    "y_test = test_df['emotion']\n",
    "\n",
    "mnb = MultinomialNB()\n",
    "mnb = mnb.fit(X_train, y_train)\n",
    "\n",
    "y_train_pred_mnb = mnb.predict(X_train)\n",
    "y_test_pred_mnb = mnb.predict(X_test)\n",
    "\n",
    "y_test_pred_mnb[:10]"
   ]
  },
  {
   "cell_type": "code",
   "execution_count": 37,
   "metadata": {
    "execution": {
     "iopub.execute_input": "2022-11-21T14:18:29.797036Z",
     "iopub.status.busy": "2022-11-21T14:18:29.796364Z",
     "iopub.status.idle": "2022-11-21T14:18:29.808061Z",
     "shell.execute_reply": "2022-11-21T14:18:29.806773Z",
     "shell.execute_reply.started": "2022-11-21T14:18:29.796975Z"
    }
   },
   "outputs": [
    {
     "name": "stdout",
     "output_type": "stream",
     "text": [
      "Naive Bayes training accuracy score : 0.79\n",
      "Naive Bayes testing accuracy score : 0.70\n"
     ]
    }
   ],
   "source": [
    "from sklearn.metrics import accuracy_score\n",
    "\n",
    "acc_train_mnb = accuracy_score(y_true=y_train, y_pred=y_train_pred_mnb)\n",
    "acc_test_mnb = accuracy_score(y_true=y_test, y_pred=y_test_pred_mnb)\n",
    "\n",
    "print(\"Naive Bayes training accuracy score : \"+str('{:4.2f}'.format(acc_train_mnb)))\n",
    "print(\"Naive Bayes testing accuracy score : \"+str('{:4.2f}'.format(acc_test_mnb)))"
   ]
  },
  {
   "cell_type": "code",
   "execution_count": 38,
   "metadata": {
    "execution": {
     "iopub.execute_input": "2022-11-21T14:18:29.810298Z",
     "iopub.status.busy": "2022-11-21T14:18:29.809693Z",
     "iopub.status.idle": "2022-11-21T14:18:30.111011Z",
     "shell.execute_reply": "2022-11-21T14:18:30.110063Z",
     "shell.execute_reply.started": "2022-11-21T14:18:29.810262Z"
    }
   },
   "outputs": [
    {
     "data": {
      "image/png": "[encoded data removed]",
      "text/plain": [
       "<Figure size 360x360 with 2 Axes>"
      ]
     },
     "metadata": {
      "needs_background": "light"
     },
     "output_type": "display_data"
    }
   ],
   "source": [
    "from sklearn.metrics import confusion_matrix\n",
    "\n",
    "cm_mnb = confusion_matrix(y_true=y_test, y_pred=y_test_pred_mnb) \n",
    "\n",
    "my_tags = ['anger', 'fear', 'joy', 'sadness']\n",
    "plot_confusion_matrix(cm_mnb, classes=my_tags, title='Confusion matrix')"
   ]
  },
  {
   "cell_type": "code",
   "execution_count": 39,
   "metadata": {
    "execution": {
     "iopub.execute_input": "2022-11-21T14:18:30.112854Z",
     "iopub.status.busy": "2022-11-21T14:18:30.112493Z",
     "iopub.status.idle": "2022-11-21T14:18:30.120758Z",
     "shell.execute_reply": "2022-11-21T14:18:30.119674Z",
     "shell.execute_reply.started": "2022-11-21T14:18:30.112824Z"
    }
   },
   "outputs": [
    {
     "data": {
      "text/plain": [
       "array([1.e+00, 1.e-01, 1.e-02, 1.e-03, 1.e-04, 1.e-05, 1.e-06, 1.e-07,\n",
       "       1.e-08, 1.e-09])"
      ]
     },
     "execution_count": 39,
     "metadata": {},
     "output_type": "execute_result"
    }
   ],
   "source": [
    "np.logspace(0,-9, num=10)"
   ]
  },
  {
   "cell_type": "code",
   "execution_count": 40,
   "metadata": {
    "execution": {
     "iopub.execute_input": "2022-11-21T14:18:30.123528Z",
     "iopub.status.busy": "2022-11-21T14:18:30.123013Z",
     "iopub.status.idle": "2022-11-21T14:18:30.130640Z",
     "shell.execute_reply": "2022-11-21T14:18:30.129686Z",
     "shell.execute_reply.started": "2022-11-21T14:18:30.123468Z"
    }
   },
   "outputs": [],
   "source": [
    "from sklearn.model_selection import RepeatedStratifiedKFold\n",
    "\n",
    "cv_method = RepeatedStratifiedKFold(n_splits=5, \n",
    "                                    n_repeats=3, \n",
    "                                    random_state=999)"
   ]
  },
  {
   "cell_type": "code",
   "execution_count": 41,
   "metadata": {
    "execution": {
     "iopub.execute_input": "2022-11-21T14:18:30.133445Z",
     "iopub.status.busy": "2022-11-21T14:18:30.132335Z",
     "iopub.status.idle": "2022-11-21T14:18:30.151534Z",
     "shell.execute_reply": "2022-11-21T14:18:30.150641Z",
     "shell.execute_reply.started": "2022-11-21T14:18:30.133391Z"
    }
   },
   "outputs": [],
   "source": [
    "X_train_d = X_train.toarray()"
   ]
  },
  {
   "cell_type": "code",
   "execution_count": 42,
   "metadata": {
    "execution": {
     "iopub.execute_input": "2022-11-21T14:18:30.153686Z",
     "iopub.status.busy": "2022-11-21T14:18:30.153250Z",
     "iopub.status.idle": "2022-11-21T14:19:21.066359Z",
     "shell.execute_reply": "2022-11-21T14:19:21.065105Z",
     "shell.execute_reply.started": "2022-11-21T14:18:30.153651Z"
    }
   },
   "outputs": [
    {
     "name": "stdout",
     "output_type": "stream",
     "text": [
      "Fitting 15 folds for each of 100 candidates, totalling 1500 fits\n"
     ]
    },
    {
     "data": {
      "text/plain": [
       "GridSearchCV(cv=RepeatedStratifiedKFold(n_repeats=3, n_splits=5, random_state=999),\n",
       "             estimator=GaussianNB(),\n",
       "             param_grid={'var_smoothing': array([1.00000000e+00, 8.11130831e-01, 6.57933225e-01, 5.33669923e-01,\n",
       "       4.32876128e-01, 3.51119173e-01, 2.84803587e-01, 2.31012970e-01,\n",
       "       1.87381742e-01, 1.51991108e-01, 1.23284674e-01, 1.00000000e-01,\n",
       "       8.11130831e-02, 6.57933225e-02, 5...\n",
       "       1.23284674e-07, 1.00000000e-07, 8.11130831e-08, 6.57933225e-08,\n",
       "       5.33669923e-08, 4.32876128e-08, 3.51119173e-08, 2.84803587e-08,\n",
       "       2.31012970e-08, 1.87381742e-08, 1.51991108e-08, 1.23284674e-08,\n",
       "       1.00000000e-08, 8.11130831e-09, 6.57933225e-09, 5.33669923e-09,\n",
       "       4.32876128e-09, 3.51119173e-09, 2.84803587e-09, 2.31012970e-09,\n",
       "       1.87381742e-09, 1.51991108e-09, 1.23284674e-09, 1.00000000e-09])},\n",
       "             scoring='accuracy', verbose=1)"
      ]
     },
     "execution_count": 42,
     "metadata": {},
     "output_type": "execute_result"
    }
   ],
   "source": [
    "from sklearn.model_selection import train_test_split,GridSearchCV\n",
    "from sklearn.naive_bayes import GaussianNB\n",
    "\n",
    "model = GaussianNB()\n",
    "params_NB = {'var_smoothing': np.logspace(0,-9, num=100)}\n",
    "\n",
    "gs_NB = GridSearchCV(estimator=model, \n",
    "                     param_grid=params_NB, \n",
    "                     cv=cv_method,\n",
    "                     verbose=1, \n",
    "                     scoring='accuracy')\n",
    "\n",
    "#Data_transformed = PowerTransformer().fit_transform(X_test)\n",
    "\n",
    "gs_NB.fit(X_train_d, y_train)\n"
   ]
  },
  {
   "cell_type": "code",
   "execution_count": 43,
   "metadata": {
    "execution": {
     "iopub.execute_input": "2022-11-21T14:19:21.068349Z",
     "iopub.status.busy": "2022-11-21T14:19:21.067617Z",
     "iopub.status.idle": "2022-11-21T14:19:21.076176Z",
     "shell.execute_reply": "2022-11-21T14:19:21.074928Z",
     "shell.execute_reply.started": "2022-11-21T14:19:21.068301Z"
    }
   },
   "outputs": [
    {
     "data": {
      "text/plain": [
       "0.7063383690353494"
      ]
     },
     "execution_count": 43,
     "metadata": {},
     "output_type": "execute_result"
    }
   ],
   "source": [
    "gs_NB.best_score_"
   ]
  },
  {
   "cell_type": "code",
   "execution_count": 44,
   "metadata": {
    "execution": {
     "iopub.execute_input": "2022-11-21T14:19:21.078519Z",
     "iopub.status.busy": "2022-11-21T14:19:21.077788Z",
     "iopub.status.idle": "2022-11-21T14:19:21.090880Z",
     "shell.execute_reply": "2022-11-21T14:19:21.089836Z",
     "shell.execute_reply.started": "2022-11-21T14:19:21.078474Z"
    }
   },
   "outputs": [],
   "source": [
    "X_test_d = X_test.toarray()"
   ]
  },
  {
   "cell_type": "code",
   "execution_count": 45,
   "metadata": {
    "execution": {
     "iopub.execute_input": "2022-11-21T14:19:21.093174Z",
     "iopub.status.busy": "2022-11-21T14:19:21.092708Z",
     "iopub.status.idle": "2022-11-21T14:19:21.159113Z",
     "shell.execute_reply": "2022-11-21T14:19:21.157999Z",
     "shell.execute_reply.started": "2022-11-21T14:19:21.093102Z"
    }
   },
   "outputs": [],
   "source": [
    "y_train_pred_model = gs_NB.predict(X_train_d)\n",
    "y_test_pred_model = gs_NB.predict(X_test_d)"
   ]
  },
  {
   "cell_type": "code",
   "execution_count": 46,
   "metadata": {
    "execution": {
     "iopub.execute_input": "2022-11-21T14:19:21.161122Z",
     "iopub.status.busy": "2022-11-21T14:19:21.160738Z",
     "iopub.status.idle": "2022-11-21T14:19:21.171945Z",
     "shell.execute_reply": "2022-11-21T14:19:21.170810Z",
     "shell.execute_reply.started": "2022-11-21T14:19:21.161083Z"
    }
   },
   "outputs": [
    {
     "name": "stdout",
     "output_type": "stream",
     "text": [
      "Naive Bayes training accuracy score : 0.79\n",
      "Naive Bayes testing accuracy score : 0.69\n"
     ]
    }
   ],
   "source": [
    "acc_train_model = accuracy_score(y_true=y_train, y_pred=y_train_pred_model)\n",
    "acc_test_model = accuracy_score(y_true=y_test, y_pred=y_test_pred_model)\n",
    "\n",
    "print(\"Naive Bayes training accuracy score : \"+str('{:4.2f}'.format(acc_train_model)))\n",
    "print(\"Naive Bayes testing accuracy score : \"+str('{:4.2f}'.format(acc_test_model)))"
   ]
  },
  {
   "cell_type": "code",
   "execution_count": 47,
   "metadata": {
    "execution": {
     "iopub.execute_input": "2022-11-21T14:19:21.174131Z",
     "iopub.status.busy": "2022-11-21T14:19:21.173760Z",
     "iopub.status.idle": "2022-11-21T14:19:21.476034Z",
     "shell.execute_reply": "2022-11-21T14:19:21.475041Z",
     "shell.execute_reply.started": "2022-11-21T14:19:21.174096Z"
    }
   },
   "outputs": [
    {
     "data": {
      "image/png": "[encoded data removed]",
      "text/plain": [
       "<Figure size 360x360 with 2 Axes>"
      ]
     },
     "metadata": {
      "needs_background": "light"
     },
     "output_type": "display_data"
    }
   ],
   "source": [
    "from sklearn.metrics import confusion_matrix\n",
    "\n",
    "cm_mnb = confusion_matrix(y_true=y_test, y_pred=y_test_pred_model) \n",
    "\n",
    "my_tags = ['anger', 'fear', 'joy', 'sadness']\n",
    "plot_confusion_matrix(cm_mnb, classes=my_tags, title='Confusion matrix')"
   ]
  },
  {
   "cell_type": "markdown",
   "metadata": {},
   "source": [
    "### Observation\n",
    "- As we can clearly see even if the accuracy of model is reduced the recall for class joy is increased\n",
    "- However the recall for class fear is reduced a little\n",
    "- This shows us that even if the model's accuracy is not increased it has been well generalised.\n",
    "- It also shows us that Accuracy as a metric for model performance might not be the most optimum solution every time."
   ]
  },
  {
   "cell_type": "markdown",
   "metadata": {
    "id": "Xv2DqWQSYTpo"
   },
   "source": [
    "---\n",
    "### ** >>> Exercise 5 (Take home): **  \n",
    "\n",
    "How do the results from the Naive Bayes model and the Decision Tree model compare? How do you interpret these differences? Use the theoretical background covered in class to try and explain these differences."
   ]
  },
  {
   "cell_type": "markdown",
   "metadata": {
    "execution": {
     "iopub.execute_input": "2022-10-27T12:06:24.89618Z",
     "iopub.status.busy": "2022-10-27T12:06:24.89545Z",
     "iopub.status.idle": "2022-10-27T12:06:24.907309Z",
     "shell.execute_reply": "2022-10-27T12:06:24.906113Z",
     "shell.execute_reply.started": "2022-10-27T12:06:24.896135Z"
    },
    "id": "ALN_jHdlYTpo"
   },
   "source": [
    "### Answer here\n",
    "The above accuracy data demonstrate that Decision Tree has a very high training accuracy ( but Multinomial Naive Bayes has a lower training accuracy. The Decision Tree model infers rules from the training dataset by dividing it into subsets based on specified attributes ). As a result, it's common to have a high training accuracy because the tree might be seen to be representing the whole training dataset. Naive Bayesian classifier operates on a key assumption, class conditional independence, training accuracy of is a normal and conventional outcome. Because there are relationships between variables in practice, the Naive Bayesian classifier cannot model them in this scenario.I think that's why accuacy is low.\n",
    "\n",
    "Both the Decision Tree and the Naive Bayes Model yielded confusion matrices. Given that both models employ the identical BOW 500 vectorizer (Bag of Words with 500 features), we can see that Naive Bayes outperforms Decision Tree in terms of train/test accuracy. This indicates that the decision tree models are overfitted. Overfitting is an issue that may arise in both models; but, in the case of Decision Trees, it can be handled by pruning. Furthermore, Naive Bayes produces a higher F1-score for all labels.\n"
   ]
  },
  {
   "cell_type": "code",
   "execution_count": 48,
   "metadata": {
    "execution": {
     "iopub.execute_input": "2022-11-21T14:19:21.478667Z",
     "iopub.status.busy": "2022-11-21T14:19:21.477566Z",
     "iopub.status.idle": "2022-11-21T14:19:22.320078Z",
     "shell.execute_reply": "2022-11-21T14:19:22.318650Z",
     "shell.execute_reply.started": "2022-11-21T14:19:21.478625Z"
    },
    "id": "4mIdg2D6YTpo",
    "outputId": "8f4fa078-7e07-4b76-e5ee-163d123abde3"
   },
   "outputs": [
    {
     "name": "stdout",
     "output_type": "stream",
     "text": [
      "X_train.shape:  (3613, 500)\n",
      "y_train.shape:  (3613,)\n",
      "X_test.shape:  (347, 500)\n",
      "y_test.shape:  (347,)\n"
     ]
    }
   ],
   "source": [
    "import keras\n",
    "\n",
    "# standardize name (X, y) \n",
    "X_train = BOW_500.transform(train_df['text'])\n",
    "y_train = train_df['emotion']\n",
    "\n",
    "X_test = BOW_500.transform(test_df['text'])\n",
    "y_test = test_df['emotion']\n",
    "\n",
    "## check dimension is a good habbit \n",
    "print('X_train.shape: ', X_train.shape)\n",
    "print('y_train.shape: ', y_train.shape)\n",
    "print('X_test.shape: ', X_test.shape)\n",
    "print('y_test.shape: ', y_test.shape)"
   ]
  },
  {
   "cell_type": "code",
   "execution_count": 49,
   "metadata": {
    "execution": {
     "iopub.execute_input": "2022-11-21T14:19:22.322169Z",
     "iopub.status.busy": "2022-11-21T14:19:22.321691Z",
     "iopub.status.idle": "2022-11-21T14:19:22.337156Z",
     "shell.execute_reply": "2022-11-21T14:19:22.335867Z",
     "shell.execute_reply.started": "2022-11-21T14:19:22.322114Z"
    },
    "id": "SU95MCsSYTpo",
    "outputId": "7f536cfa-8eda-4c04-bbbb-f35caa203f88"
   },
   "outputs": [
    {
     "name": "stdout",
     "output_type": "stream",
     "text": [
      "check label:  ['anger' 'fear' 'joy' 'sadness']\n",
      "\n",
      "## Before convert\n",
      "y_train[0:4]:\n",
      " 248       anger\n",
      "2856    sadness\n",
      "47        anger\n",
      "3604    sadness\n",
      "Name: emotion, dtype: object\n",
      "\n",
      "y_train.shape:  (3613,)\n",
      "y_test.shape:  (347,)\n",
      "\n",
      "\n",
      "## After convert\n",
      "y_train[0:4]:\n",
      " [[1. 0. 0. 0.]\n",
      " [0. 0. 0. 1.]\n",
      " [1. 0. 0. 0.]\n",
      " [0. 0. 0. 1.]]\n",
      "\n",
      "y_train.shape:  (3613, 4)\n",
      "y_test.shape:  (347, 4)\n"
     ]
    }
   ],
   "source": [
    "## deal with label (string -> one-hot)\n",
    "from keras.utils import np_utils\n",
    "\n",
    "from sklearn.preprocessing import LabelEncoder\n",
    "\n",
    "label_encoder = LabelEncoder()\n",
    "label_encoder.fit(y_train)\n",
    "print('check label: ', label_encoder.classes_)\n",
    "print('\\n## Before convert')\n",
    "print('y_train[0:4]:\\n', y_train[0:4])\n",
    "print('\\ny_train.shape: ', y_train.shape)\n",
    "print('y_test.shape: ', y_test.shape)\n",
    "\n",
    "def label_encode(le, labels):\n",
    "    enc = le.transform(labels)\n",
    "    return keras.utils.np_utils.to_categorical(enc)\n",
    "\n",
    "def label_decode(le, one_hot_label):\n",
    "    dec = np.argmax(one_hot_label, axis=1)\n",
    "    return le.inverse_transform(dec)\n",
    "\n",
    "y_train = label_encode(label_encoder, y_train)\n",
    "y_test = label_encode(label_encoder, y_test)\n",
    "\n",
    "print('\\n\\n## After convert')\n",
    "print('y_train[0:4]:\\n', y_train[0:4])\n",
    "print('\\ny_train.shape: ', y_train.shape)\n",
    "print('y_test.shape: ', y_test.shape)\n"
   ]
  },
  {
   "cell_type": "code",
   "execution_count": 50,
   "metadata": {
    "execution": {
     "iopub.execute_input": "2022-11-21T14:19:22.340176Z",
     "iopub.status.busy": "2022-11-21T14:19:22.339322Z",
     "iopub.status.idle": "2022-11-21T14:19:22.347024Z",
     "shell.execute_reply": "2022-11-21T14:19:22.345829Z",
     "shell.execute_reply.started": "2022-11-21T14:19:22.340110Z"
    },
    "id": "6sA7cx-oYTpo",
    "outputId": "9f544ca7-8ceb-45e4-a76d-bdc8ccdb329c"
   },
   "outputs": [
    {
     "name": "stdout",
     "output_type": "stream",
     "text": [
      "input_shape:  500\n",
      "output_shape:  4\n"
     ]
    }
   ],
   "source": [
    "# I/O check\n",
    "input_shape = X_train.shape[1]\n",
    "print('input_shape: ', input_shape)\n",
    "\n",
    "output_shape = len(label_encoder.classes_)\n",
    "print('output_shape: ', output_shape)"
   ]
  },
  {
   "cell_type": "code",
   "execution_count": 52,
   "metadata": {
    "execution": {
     "iopub.execute_input": "2022-11-21T14:19:38.957578Z",
     "iopub.status.busy": "2022-11-21T14:19:38.957118Z",
     "iopub.status.idle": "2022-11-21T14:19:43.085126Z",
     "shell.execute_reply": "2022-11-21T14:19:43.084201Z",
     "shell.execute_reply.started": "2022-11-21T14:19:38.957542Z"
    },
    "id": "jTeBWTvgYTpo",
    "outputId": "3e88d40f-2179-40ea-89c6-55085cabd1c6"
   },
   "outputs": [
    {
     "name": "stderr",
     "output_type": "stream",
     "text": [
      "2022-11-21 14:19:39.151016: I tensorflow/stream_executor/cuda/cuda_gpu_executor.cc:937] successful NUMA node read from SysFS had negative value (-1), but there must be at least one NUMA node, so returning NUMA node zero\n",
      "2022-11-21 14:19:39.152319: I tensorflow/stream_executor/cuda/cuda_gpu_executor.cc:937] successful NUMA node read from SysFS had negative value (-1), but there must be at least one NUMA node, so returning NUMA node zero\n",
      "2022-11-21 14:19:39.157836: I tensorflow/stream_executor/cuda/cuda_gpu_executor.cc:937] successful NUMA node read from SysFS had negative value (-1), but there must be at least one NUMA node, so returning NUMA node zero\n",
      "2022-11-21 14:19:39.158974: I tensorflow/stream_executor/cuda/cuda_gpu_executor.cc:937] successful NUMA node read from SysFS had negative value (-1), but there must be at least one NUMA node, so returning NUMA node zero\n",
      "2022-11-21 14:19:39.160077: I tensorflow/stream_executor/cuda/cuda_gpu_executor.cc:937] successful NUMA node read from SysFS had negative value (-1), but there must be at least one NUMA node, so returning NUMA node zero\n",
      "2022-11-21 14:19:39.161234: I tensorflow/stream_executor/cuda/cuda_gpu_executor.cc:937] successful NUMA node read from SysFS had negative value (-1), but there must be at least one NUMA node, so returning NUMA node zero\n"
     ]
    },
    {
     "name": "stdout",
     "output_type": "stream",
     "text": [
      "Model: \"model\"\n",
      "_________________________________________________________________\n",
      "Layer (type)                 Output Shape              Param #   \n",
      "=================================================================\n",
      "input_1 (InputLayer)         [(None, 500)]             0         \n",
      "_________________________________________________________________\n",
      "dense (Dense)                (None, 64)                32064     \n",
      "_________________________________________________________________\n",
      "re_lu (ReLU)                 (None, 64)                0         \n",
      "_________________________________________________________________\n",
      "dense_1 (Dense)              (None, 64)                4160      \n",
      "_________________________________________________________________\n",
      "re_lu_1 (ReLU)               (None, 64)                0         \n",
      "_________________________________________________________________\n",
      "dense_2 (Dense)              (None, 4)                 260       \n",
      "_________________________________________________________________\n",
      "softmax (Softmax)            (None, 4)                 0         \n",
      "=================================================================\n",
      "Total params: 36,484\n",
      "Trainable params: 36,484\n",
      "Non-trainable params: 0\n",
      "_________________________________________________________________\n"
     ]
    },
    {
     "name": "stderr",
     "output_type": "stream",
     "text": [
      "2022-11-21 14:19:39.163719: I tensorflow/core/platform/cpu_feature_guard.cc:142] This TensorFlow binary is optimized with oneAPI Deep Neural Network Library (oneDNN) to use the following CPU instructions in performance-critical operations:  AVX2 AVX512F FMA\n",
      "To enable them in other operations, rebuild TensorFlow with the appropriate compiler flags.\n",
      "2022-11-21 14:19:39.437889: I tensorflow/stream_executor/cuda/cuda_gpu_executor.cc:937] successful NUMA node read from SysFS had negative value (-1), but there must be at least one NUMA node, so returning NUMA node zero\n",
      "2022-11-21 14:19:39.438925: I tensorflow/stream_executor/cuda/cuda_gpu_executor.cc:937] successful NUMA node read from SysFS had negative value (-1), but there must be at least one NUMA node, so returning NUMA node zero\n",
      "2022-11-21 14:19:39.439773: I tensorflow/stream_executor/cuda/cuda_gpu_executor.cc:937] successful NUMA node read from SysFS had negative value (-1), but there must be at least one NUMA node, so returning NUMA node zero\n",
      "2022-11-21 14:19:39.440574: I tensorflow/stream_executor/cuda/cuda_gpu_executor.cc:937] successful NUMA node read from SysFS had negative value (-1), but there must be at least one NUMA node, so returning NUMA node zero\n",
      "2022-11-21 14:19:39.441325: I tensorflow/stream_executor/cuda/cuda_gpu_executor.cc:937] successful NUMA node read from SysFS had negative value (-1), but there must be at least one NUMA node, so returning NUMA node zero\n",
      "2022-11-21 14:19:39.442039: I tensorflow/stream_executor/cuda/cuda_gpu_executor.cc:937] successful NUMA node read from SysFS had negative value (-1), but there must be at least one NUMA node, so returning NUMA node zero\n",
      "2022-11-21 14:19:42.680945: I tensorflow/stream_executor/cuda/cuda_gpu_executor.cc:937] successful NUMA node read from SysFS had negative value (-1), but there must be at least one NUMA node, so returning NUMA node zero\n",
      "2022-11-21 14:19:42.681881: I tensorflow/stream_executor/cuda/cuda_gpu_executor.cc:937] successful NUMA node read from SysFS had negative value (-1), but there must be at least one NUMA node, so returning NUMA node zero\n",
      "2022-11-21 14:19:42.683200: I tensorflow/stream_executor/cuda/cuda_gpu_executor.cc:937] successful NUMA node read from SysFS had negative value (-1), but there must be at least one NUMA node, so returning NUMA node zero\n",
      "2022-11-21 14:19:42.683914: I tensorflow/stream_executor/cuda/cuda_gpu_executor.cc:937] successful NUMA node read from SysFS had negative value (-1), but there must be at least one NUMA node, so returning NUMA node zero\n",
      "2022-11-21 14:19:42.684623: I tensorflow/stream_executor/cuda/cuda_gpu_executor.cc:937] successful NUMA node read from SysFS had negative value (-1), but there must be at least one NUMA node, so returning NUMA node zero\n",
      "2022-11-21 14:19:42.685316: I tensorflow/core/common_runtime/gpu/gpu_device.cc:1510] Created device /job:localhost/replica:0/task:0/device:GPU:0 with 13761 MB memory:  -> device: 0, name: Tesla T4, pci bus id: 0000:00:04.0, compute capability: 7.5\n",
      "2022-11-21 14:19:42.688486: I tensorflow/stream_executor/cuda/cuda_gpu_executor.cc:937] successful NUMA node read from SysFS had negative value (-1), but there must be at least one NUMA node, so returning NUMA node zero\n",
      "2022-11-21 14:19:42.689128: I tensorflow/core/common_runtime/gpu/gpu_device.cc:1510] Created device /job:localhost/replica:0/task:0/device:GPU:1 with 13761 MB memory:  -> device: 1, name: Tesla T4, pci bus id: 0000:00:05.0, compute capability: 7.5\n"
     ]
    }
   ],
   "source": [
    "from keras.models import Model\n",
    "from keras.layers import Input, Dense\n",
    "from keras.layers import ReLU, Softmax\n",
    "\n",
    "# input layer\n",
    "model_input = Input(shape=(input_shape, ))  # 500\n",
    "X = model_input\n",
    "\n",
    "# 1st hidden layer\n",
    "X_W1 = Dense(units=64)(X)  # 64\n",
    "H1 = ReLU()(X_W1)\n",
    "\n",
    "# 2nd hidden layer\n",
    "H1_W2 = Dense(units=64)(H1)  # 64\n",
    "H2 = ReLU()(H1_W2)\n",
    "\n",
    "# output layer\n",
    "H2_W3 = Dense(units=output_shape)(H2)  # 4\n",
    "H3 = Softmax()(H2_W3)\n",
    "\n",
    "model_output = H3\n",
    "\n",
    "# create model\n",
    "model = Model(inputs=[model_input], outputs=[model_output])\n",
    "\n",
    "# loss function & optimizer\n",
    "model.compile(optimizer='adam',\n",
    "              loss='categorical_crossentropy',\n",
    "              metrics=['accuracy'])\n",
    "\n",
    "# show model construction\n",
    "model.summary()"
   ]
  },
  {
   "cell_type": "markdown",
   "metadata": {
    "id": "nmTSDO2pYTpo"
   },
   "source": [
    "### 6.4 Train"
   ]
  },
  {
   "cell_type": "code",
   "execution_count": 53,
   "metadata": {
    "execution": {
     "iopub.execute_input": "2022-11-21T14:19:49.009698Z",
     "iopub.status.busy": "2022-11-21T14:19:49.009291Z",
     "iopub.status.idle": "2022-11-21T14:20:05.466010Z",
     "shell.execute_reply": "2022-11-21T14:20:05.464829Z",
     "shell.execute_reply.started": "2022-11-21T14:19:49.009664Z"
    },
    "id": "Kl374LYqYTpo",
    "outputId": "75b1f651-b779-4efd-ff14-0b4a0e95d8db"
   },
   "outputs": [
    {
     "name": "stdout",
     "output_type": "stream",
     "text": [
      "Epoch 1/25\n"
     ]
    },
    {
     "name": "stderr",
     "output_type": "stream",
     "text": [
      "/opt/conda/lib/python3.7/site-packages/tensorflow/python/framework/indexed_slices.py:449: UserWarning:\n",
      "\n",
      "Converting sparse IndexedSlices(IndexedSlices(indices=Tensor(\"gradient_tape/model/dense/embedding_lookup_sparse/Reshape_1:0\", shape=(None,), dtype=int32), values=Tensor(\"gradient_tape/model/dense/embedding_lookup_sparse/Reshape:0\", shape=(None, 64), dtype=float32), dense_shape=Tensor(\"gradient_tape/model/dense/embedding_lookup_sparse/Cast:0\", shape=(2,), dtype=int32))) to a dense Tensor of unknown shape. This may consume a large amount of memory.\n",
      "\n",
      "2022-11-21 14:19:49.536078: I tensorflow/compiler/mlir/mlir_graph_optimization_pass.cc:185] None of the MLIR Optimization Passes are enabled (registered 2)\n"
     ]
    },
    {
     "name": "stdout",
     "output_type": "stream",
     "text": [
      "113/113 [==============================] - 3s 5ms/step - loss: 1.3330 - accuracy: 0.3601 - val_loss: 1.2656 - val_accuracy: 0.4409\n",
      "Epoch 2/25\n",
      "113/113 [==============================] - 0s 4ms/step - loss: 0.9946 - accuracy: 0.6418 - val_loss: 0.9044 - val_accuracy: 0.6599\n",
      "Epoch 3/25\n",
      "113/113 [==============================] - 1s 5ms/step - loss: 0.5743 - accuracy: 0.7974 - val_loss: 0.8015 - val_accuracy: 0.6801\n",
      "Epoch 4/25\n",
      "113/113 [==============================] - 1s 5ms/step - loss: 0.4064 - accuracy: 0.8577 - val_loss: 0.7908 - val_accuracy: 0.7032\n",
      "Epoch 5/25\n",
      "113/113 [==============================] - 0s 4ms/step - loss: 0.3185 - accuracy: 0.8862 - val_loss: 0.8411 - val_accuracy: 0.6974\n",
      "Epoch 6/25\n",
      "113/113 [==============================] - 0s 4ms/step - loss: 0.2547 - accuracy: 0.9153 - val_loss: 0.8998 - val_accuracy: 0.6916\n",
      "Epoch 7/25\n",
      "113/113 [==============================] - 0s 4ms/step - loss: 0.2116 - accuracy: 0.9330 - val_loss: 0.9259 - val_accuracy: 0.6945\n",
      "Epoch 8/25\n",
      "113/113 [==============================] - 0s 4ms/step - loss: 0.1774 - accuracy: 0.9452 - val_loss: 0.9850 - val_accuracy: 0.6830\n",
      "Epoch 9/25\n",
      "113/113 [==============================] - 0s 4ms/step - loss: 0.1515 - accuracy: 0.9565 - val_loss: 1.0837 - val_accuracy: 0.6772\n",
      "Epoch 10/25\n",
      "113/113 [==============================] - 0s 4ms/step - loss: 0.1309 - accuracy: 0.9629 - val_loss: 1.1199 - val_accuracy: 0.6974\n",
      "Epoch 11/25\n",
      "113/113 [==============================] - 0s 4ms/step - loss: 0.1164 - accuracy: 0.9654 - val_loss: 1.1298 - val_accuracy: 0.6974\n",
      "Epoch 12/25\n",
      "113/113 [==============================] - 0s 4ms/step - loss: 0.1049 - accuracy: 0.9682 - val_loss: 1.1664 - val_accuracy: 0.6974\n",
      "Epoch 13/25\n",
      "113/113 [==============================] - 0s 4ms/step - loss: 0.0967 - accuracy: 0.9729 - val_loss: 1.2007 - val_accuracy: 0.6974\n",
      "Epoch 14/25\n",
      "113/113 [==============================] - 0s 4ms/step - loss: 0.0920 - accuracy: 0.9723 - val_loss: 1.2664 - val_accuracy: 0.6916\n",
      "Epoch 15/25\n",
      "113/113 [==============================] - 0s 4ms/step - loss: 0.0855 - accuracy: 0.9732 - val_loss: 1.3430 - val_accuracy: 0.6830\n",
      "Epoch 16/25\n",
      "113/113 [==============================] - 0s 4ms/step - loss: 0.0854 - accuracy: 0.9743 - val_loss: 1.3468 - val_accuracy: 0.7032\n",
      "Epoch 17/25\n",
      "113/113 [==============================] - 0s 4ms/step - loss: 0.0758 - accuracy: 0.9756 - val_loss: 1.3574 - val_accuracy: 0.7003\n",
      "Epoch 18/25\n",
      "113/113 [==============================] - 0s 4ms/step - loss: 0.0805 - accuracy: 0.9756 - val_loss: 1.3957 - val_accuracy: 0.6888\n",
      "Epoch 19/25\n",
      "113/113 [==============================] - 0s 4ms/step - loss: 0.0703 - accuracy: 0.9765 - val_loss: 1.4396 - val_accuracy: 0.6715\n",
      "Epoch 20/25\n",
      "113/113 [==============================] - 0s 4ms/step - loss: 0.0763 - accuracy: 0.9768 - val_loss: 1.4355 - val_accuracy: 0.6916\n",
      "Epoch 21/25\n",
      "113/113 [==============================] - 0s 4ms/step - loss: 0.0665 - accuracy: 0.9781 - val_loss: 1.4683 - val_accuracy: 0.6916\n",
      "Epoch 22/25\n",
      "113/113 [==============================] - 0s 4ms/step - loss: 0.0679 - accuracy: 0.9762 - val_loss: 1.4923 - val_accuracy: 0.6888\n",
      "Epoch 23/25\n",
      "113/113 [==============================] - 0s 4ms/step - loss: 0.0690 - accuracy: 0.9770 - val_loss: 1.4904 - val_accuracy: 0.7061\n",
      "Epoch 24/25\n",
      "113/113 [==============================] - 1s 6ms/step - loss: 0.0629 - accuracy: 0.9779 - val_loss: 1.4826 - val_accuracy: 0.7032\n",
      "Epoch 25/25\n",
      "113/113 [==============================] - 0s 4ms/step - loss: 0.0583 - accuracy: 0.9792 - val_loss: 1.5454 - val_accuracy: 0.6830\n",
      "training finish\n"
     ]
    }
   ],
   "source": [
    "from keras.callbacks import CSVLogger\n",
    "\n",
    "csv_logger = CSVLogger('training_log.csv')\n",
    "\n",
    "# training setting\n",
    "epochs = 25\n",
    "batch_size = 32\n",
    "\n",
    "# training!\n",
    "history = model.fit(X_train, y_train, \n",
    "                    epochs=epochs, \n",
    "                    batch_size=batch_size, \n",
    "                    callbacks=[csv_logger],\n",
    "                    validation_data = (X_test, y_test))\n",
    "print('training finish')"
   ]
  },
  {
   "cell_type": "markdown",
   "metadata": {
    "id": "ip8RYsvSYTpo"
   },
   "source": [
    "### 6.5 Predict on testing data"
   ]
  },
  {
   "cell_type": "code",
   "execution_count": 54,
   "metadata": {
    "execution": {
     "iopub.execute_input": "2022-11-21T14:20:10.969047Z",
     "iopub.status.busy": "2022-11-21T14:20:10.968002Z",
     "iopub.status.idle": "2022-11-21T14:20:11.098027Z",
     "shell.execute_reply": "2022-11-21T14:20:11.097214Z",
     "shell.execute_reply.started": "2022-11-21T14:20:10.968996Z"
    },
    "id": "xdnLuBYBYTpo",
    "outputId": "6e7e97b7-fe5c-44f6-9baa-a71335aa7b06"
   },
   "outputs": [
    {
     "data": {
      "text/plain": [
       "array([[5.2997171e-07, 6.3067819e-05, 9.9993622e-01, 7.4044820e-08],\n",
       "       [9.9947208e-01, 1.2095982e-05, 9.9259189e-05, 4.1653839e-04],\n",
       "       [8.2929768e-03, 9.9072134e-01, 3.9847153e-05, 9.4589259e-04],\n",
       "       [6.4425301e-08, 2.0122112e-05, 7.8103207e-14, 9.9997985e-01],\n",
       "       [6.9550723e-02, 9.2768848e-01, 2.0827067e-03, 6.7811896e-04]],\n",
       "      dtype=float32)"
      ]
     },
     "execution_count": 54,
     "metadata": {},
     "output_type": "execute_result"
    }
   ],
   "source": [
    "## predict\n",
    "pred_result = model.predict(X_test, batch_size=128)\n",
    "pred_result[:5]"
   ]
  },
  {
   "cell_type": "code",
   "execution_count": 55,
   "metadata": {
    "execution": {
     "iopub.execute_input": "2022-11-21T14:20:17.524544Z",
     "iopub.status.busy": "2022-11-21T14:20:17.524117Z",
     "iopub.status.idle": "2022-11-21T14:20:17.532591Z",
     "shell.execute_reply": "2022-11-21T14:20:17.531462Z",
     "shell.execute_reply.started": "2022-11-21T14:20:17.524510Z"
    },
    "id": "hSaXGEX-YTpo",
    "outputId": "d35b5fb3-74e5-44d9-ac1d-8a11cca023e4"
   },
   "outputs": [
    {
     "data": {
      "text/plain": [
       "array(['joy', 'anger', 'fear', 'sadness', 'fear'], dtype=object)"
      ]
     },
     "execution_count": 55,
     "metadata": {},
     "output_type": "execute_result"
    }
   ],
   "source": [
    "pred_result = label_decode(label_encoder, pred_result)\n",
    "pred_result[:5]"
   ]
  },
  {
   "cell_type": "code",
   "execution_count": 56,
   "metadata": {
    "execution": {
     "iopub.execute_input": "2022-11-21T14:20:20.558798Z",
     "iopub.status.busy": "2022-11-21T14:20:20.558420Z",
     "iopub.status.idle": "2022-11-21T14:20:20.566386Z",
     "shell.execute_reply": "2022-11-21T14:20:20.565309Z",
     "shell.execute_reply.started": "2022-11-21T14:20:20.558767Z"
    },
    "id": "bRRHye9KYTp5",
    "outputId": "d4f240ef-5f59-4d90-e3a2-57b98ced3928"
   },
   "outputs": [
    {
     "name": "stdout",
     "output_type": "stream",
     "text": [
      "testing accuracy: 0.68\n"
     ]
    }
   ],
   "source": [
    "from sklearn.metrics import accuracy_score\n",
    "\n",
    "print('testing accuracy: {}'.format(round(accuracy_score(label_decode(label_encoder, y_test), pred_result), 2)))"
   ]
  },
  {
   "cell_type": "code",
   "execution_count": 57,
   "metadata": {
    "execution": {
     "iopub.execute_input": "2022-11-21T14:20:22.711590Z",
     "iopub.status.busy": "2022-11-21T14:20:22.710871Z",
     "iopub.status.idle": "2022-11-21T14:20:22.733925Z",
     "shell.execute_reply": "2022-11-21T14:20:22.732221Z",
     "shell.execute_reply.started": "2022-11-21T14:20:22.711554Z"
    },
    "id": "ks2Q0aMsYTp5",
    "outputId": "8b802a69-6377-4f0a-c1fa-2f03e5abebd4"
   },
   "outputs": [
    {
     "data": {
      "text/html": [
       "<div>\n",
       "<style scoped>\n",
       "    .dataframe tbody tr th:only-of-type {\n",
       "        vertical-align: middle;\n",
       "    }\n",
       "\n",
       "    .dataframe tbody tr th {\n",
       "        vertical-align: top;\n",
       "    }\n",
       "\n",
       "    .dataframe thead th {\n",
       "        text-align: right;\n",
       "    }\n",
       "</style>\n",
       "<table border=\"1\" class=\"dataframe\">\n",
       "  <thead>\n",
       "    <tr style=\"text-align: right;\">\n",
       "      <th></th>\n",
       "      <th>epoch</th>\n",
       "      <th>accuracy</th>\n",
       "      <th>loss</th>\n",
       "      <th>val_accuracy</th>\n",
       "      <th>val_loss</th>\n",
       "    </tr>\n",
       "  </thead>\n",
       "  <tbody>\n",
       "    <tr>\n",
       "      <th>0</th>\n",
       "      <td>0</td>\n",
       "      <td>0.360089</td>\n",
       "      <td>1.332956</td>\n",
       "      <td>0.440922</td>\n",
       "      <td>1.265615</td>\n",
       "    </tr>\n",
       "    <tr>\n",
       "      <th>1</th>\n",
       "      <td>1</td>\n",
       "      <td>0.641849</td>\n",
       "      <td>0.994578</td>\n",
       "      <td>0.659942</td>\n",
       "      <td>0.904426</td>\n",
       "    </tr>\n",
       "    <tr>\n",
       "      <th>2</th>\n",
       "      <td>2</td>\n",
       "      <td>0.797398</td>\n",
       "      <td>0.574261</td>\n",
       "      <td>0.680115</td>\n",
       "      <td>0.801548</td>\n",
       "    </tr>\n",
       "    <tr>\n",
       "      <th>3</th>\n",
       "      <td>3</td>\n",
       "      <td>0.857736</td>\n",
       "      <td>0.406410</td>\n",
       "      <td>0.703170</td>\n",
       "      <td>0.790838</td>\n",
       "    </tr>\n",
       "    <tr>\n",
       "      <th>4</th>\n",
       "      <td>4</td>\n",
       "      <td>0.886244</td>\n",
       "      <td>0.318538</td>\n",
       "      <td>0.697406</td>\n",
       "      <td>0.841117</td>\n",
       "    </tr>\n",
       "    <tr>\n",
       "      <th>5</th>\n",
       "      <td>5</td>\n",
       "      <td>0.915306</td>\n",
       "      <td>0.254657</td>\n",
       "      <td>0.691643</td>\n",
       "      <td>0.899831</td>\n",
       "    </tr>\n",
       "    <tr>\n",
       "      <th>6</th>\n",
       "      <td>6</td>\n",
       "      <td>0.933020</td>\n",
       "      <td>0.211643</td>\n",
       "      <td>0.694524</td>\n",
       "      <td>0.925864</td>\n",
       "    </tr>\n",
       "    <tr>\n",
       "      <th>7</th>\n",
       "      <td>7</td>\n",
       "      <td>0.945198</td>\n",
       "      <td>0.177405</td>\n",
       "      <td>0.682997</td>\n",
       "      <td>0.984996</td>\n",
       "    </tr>\n",
       "    <tr>\n",
       "      <th>8</th>\n",
       "      <td>8</td>\n",
       "      <td>0.956546</td>\n",
       "      <td>0.151543</td>\n",
       "      <td>0.677233</td>\n",
       "      <td>1.083667</td>\n",
       "    </tr>\n",
       "    <tr>\n",
       "      <th>9</th>\n",
       "      <td>9</td>\n",
       "      <td>0.962912</td>\n",
       "      <td>0.130902</td>\n",
       "      <td>0.697406</td>\n",
       "      <td>1.119894</td>\n",
       "    </tr>\n",
       "    <tr>\n",
       "      <th>10</th>\n",
       "      <td>10</td>\n",
       "      <td>0.965403</td>\n",
       "      <td>0.116390</td>\n",
       "      <td>0.697406</td>\n",
       "      <td>1.129804</td>\n",
       "    </tr>\n",
       "    <tr>\n",
       "      <th>11</th>\n",
       "      <td>11</td>\n",
       "      <td>0.968171</td>\n",
       "      <td>0.104929</td>\n",
       "      <td>0.697406</td>\n",
       "      <td>1.166409</td>\n",
       "    </tr>\n",
       "    <tr>\n",
       "      <th>12</th>\n",
       "      <td>12</td>\n",
       "      <td>0.972876</td>\n",
       "      <td>0.096654</td>\n",
       "      <td>0.697406</td>\n",
       "      <td>1.200750</td>\n",
       "    </tr>\n",
       "    <tr>\n",
       "      <th>13</th>\n",
       "      <td>13</td>\n",
       "      <td>0.972322</td>\n",
       "      <td>0.092015</td>\n",
       "      <td>0.691643</td>\n",
       "      <td>1.266402</td>\n",
       "    </tr>\n",
       "    <tr>\n",
       "      <th>14</th>\n",
       "      <td>14</td>\n",
       "      <td>0.973153</td>\n",
       "      <td>0.085490</td>\n",
       "      <td>0.682997</td>\n",
       "      <td>1.343032</td>\n",
       "    </tr>\n",
       "    <tr>\n",
       "      <th>15</th>\n",
       "      <td>15</td>\n",
       "      <td>0.974260</td>\n",
       "      <td>0.085439</td>\n",
       "      <td>0.703170</td>\n",
       "      <td>1.346837</td>\n",
       "    </tr>\n",
       "    <tr>\n",
       "      <th>16</th>\n",
       "      <td>16</td>\n",
       "      <td>0.975644</td>\n",
       "      <td>0.075801</td>\n",
       "      <td>0.700288</td>\n",
       "      <td>1.357418</td>\n",
       "    </tr>\n",
       "    <tr>\n",
       "      <th>17</th>\n",
       "      <td>17</td>\n",
       "      <td>0.975644</td>\n",
       "      <td>0.080523</td>\n",
       "      <td>0.688761</td>\n",
       "      <td>1.395699</td>\n",
       "    </tr>\n",
       "    <tr>\n",
       "      <th>18</th>\n",
       "      <td>18</td>\n",
       "      <td>0.976474</td>\n",
       "      <td>0.070259</td>\n",
       "      <td>0.671470</td>\n",
       "      <td>1.439582</td>\n",
       "    </tr>\n",
       "    <tr>\n",
       "      <th>19</th>\n",
       "      <td>19</td>\n",
       "      <td>0.976751</td>\n",
       "      <td>0.076334</td>\n",
       "      <td>0.691643</td>\n",
       "      <td>1.435547</td>\n",
       "    </tr>\n",
       "    <tr>\n",
       "      <th>20</th>\n",
       "      <td>20</td>\n",
       "      <td>0.978135</td>\n",
       "      <td>0.066539</td>\n",
       "      <td>0.691643</td>\n",
       "      <td>1.468262</td>\n",
       "    </tr>\n",
       "    <tr>\n",
       "      <th>21</th>\n",
       "      <td>21</td>\n",
       "      <td>0.976197</td>\n",
       "      <td>0.067938</td>\n",
       "      <td>0.688761</td>\n",
       "      <td>1.492278</td>\n",
       "    </tr>\n",
       "    <tr>\n",
       "      <th>22</th>\n",
       "      <td>22</td>\n",
       "      <td>0.977027</td>\n",
       "      <td>0.068984</td>\n",
       "      <td>0.706052</td>\n",
       "      <td>1.490405</td>\n",
       "    </tr>\n",
       "    <tr>\n",
       "      <th>23</th>\n",
       "      <td>23</td>\n",
       "      <td>0.977858</td>\n",
       "      <td>0.062903</td>\n",
       "      <td>0.703170</td>\n",
       "      <td>1.482572</td>\n",
       "    </tr>\n",
       "    <tr>\n",
       "      <th>24</th>\n",
       "      <td>24</td>\n",
       "      <td>0.979242</td>\n",
       "      <td>0.058280</td>\n",
       "      <td>0.682997</td>\n",
       "      <td>1.545372</td>\n",
       "    </tr>\n",
       "  </tbody>\n",
       "</table>\n",
       "</div>"
      ],
      "text/plain": [
       "    epoch  accuracy      loss  val_accuracy  val_loss\n",
       "0       0  0.360089  1.332956      0.440922  1.265615\n",
       "1       1  0.641849  0.994578      0.659942  0.904426\n",
       "2       2  0.797398  0.574261      0.680115  0.801548\n",
       "3       3  0.857736  0.406410      0.703170  0.790838\n",
       "4       4  0.886244  0.318538      0.697406  0.841117\n",
       "5       5  0.915306  0.254657      0.691643  0.899831\n",
       "6       6  0.933020  0.211643      0.694524  0.925864\n",
       "7       7  0.945198  0.177405      0.682997  0.984996\n",
       "8       8  0.956546  0.151543      0.677233  1.083667\n",
       "9       9  0.962912  0.130902      0.697406  1.119894\n",
       "10     10  0.965403  0.116390      0.697406  1.129804\n",
       "11     11  0.968171  0.104929      0.697406  1.166409\n",
       "12     12  0.972876  0.096654      0.697406  1.200750\n",
       "13     13  0.972322  0.092015      0.691643  1.266402\n",
       "14     14  0.973153  0.085490      0.682997  1.343032\n",
       "15     15  0.974260  0.085439      0.703170  1.346837\n",
       "16     16  0.975644  0.075801      0.700288  1.357418\n",
       "17     17  0.975644  0.080523      0.688761  1.395699\n",
       "18     18  0.976474  0.070259      0.671470  1.439582\n",
       "19     19  0.976751  0.076334      0.691643  1.435547\n",
       "20     20  0.978135  0.066539      0.691643  1.468262\n",
       "21     21  0.976197  0.067938      0.688761  1.492278\n",
       "22     22  0.977027  0.068984      0.706052  1.490405\n",
       "23     23  0.977858  0.062903      0.703170  1.482572\n",
       "24     24  0.979242  0.058280      0.682997  1.545372"
      ]
     },
     "execution_count": 57,
     "metadata": {},
     "output_type": "execute_result"
    }
   ],
   "source": [
    "#Let's take a look at the training log\n",
    "training_log = pd.DataFrame()\n",
    "training_log = pd.read_csv(\"training_log.csv\")\n",
    "training_log"
   ]
  },
  {
   "cell_type": "markdown",
   "metadata": {
    "id": "NoYqY0-tYTp5"
   },
   "source": [
    "---\n",
    "### ** >>> Exercise 6 (Take home): **  \n",
    "\n",
    "Plot the Training and Validation Accuracy and Loss (different plots), just like the images below (Note: the pictures below are an example from a different model). How to interpret the graphs you got? How are they related to the concept of overfitting/underfitting covered in class?\n",
    "\n",
    "![image.png](https://raw.githubusercontent.com/keziatamus/DM2022-Lab2-Master/08755efc671824064d7a9347edb8c418550c3e83//pics/pic3.png)![image.png](https://raw.githubusercontent.com/keziatamus/DM2022-Lab2-Master/08755efc671824064d7a9347edb8c418550c3e83//pics/pic4.png)"
   ]
  },
  {
   "cell_type": "code",
   "execution_count": 58,
   "metadata": {
    "execution": {
     "iopub.execute_input": "2022-11-21T14:21:04.552665Z",
     "iopub.status.busy": "2022-11-21T14:21:04.552193Z",
     "iopub.status.idle": "2022-11-21T14:21:04.802468Z",
     "shell.execute_reply": "2022-11-21T14:21:04.801500Z",
     "shell.execute_reply.started": "2022-11-21T14:21:04.552625Z"
    },
    "id": "AlhstCrlYTp5"
   },
   "outputs": [
    {
     "data": {
      "image/png": "[encoded data removed]",
      "text/plain": [
       "<Figure size 432x288 with 1 Axes>"
      ]
     },
     "metadata": {
      "needs_background": "light"
     },
     "output_type": "display_data"
    }
   ],
   "source": [
    "# Answer here\n",
    "plt.plot(history.history['accuracy'])\n",
    "plt.plot(history.history['val_accuracy'])\n",
    "plt.title('Model Accuracy')\n",
    "plt.ylabel('accuracy')\n",
    "plt.xlabel('epoch')\n",
    "plt.legend(['train', 'test'], loc='upper left')\n",
    "plt.show()"
   ]
  },
  {
   "cell_type": "code",
   "execution_count": 59,
   "metadata": {
    "execution": {
     "iopub.execute_input": "2022-11-21T14:21:16.013681Z",
     "iopub.status.busy": "2022-11-21T14:21:16.013288Z",
     "iopub.status.idle": "2022-11-21T14:21:16.243443Z",
     "shell.execute_reply": "2022-11-21T14:21:16.242495Z",
     "shell.execute_reply.started": "2022-11-21T14:21:16.013641Z"
    }
   },
   "outputs": [
    {
     "data": {
      "image/png": "[encoded data removed]",
      "text/plain": [
       "<Figure size 432x288 with 1 Axes>"
      ]
     },
     "metadata": {
      "needs_background": "light"
     },
     "output_type": "display_data"
    }
   ],
   "source": [
    "plt.plot(history.history['loss'])\n",
    "plt.plot(history.history['val_loss'])\n",
    "plt.title('Model Loss')\n",
    "plt.ylabel('loss')\n",
    "plt.xlabel('epoch')\n",
    "plt.legend(['train', 'test'], loc='upper left')\n",
    "plt.show()"
   ]
  },
  {
   "cell_type": "markdown",
   "metadata": {},
   "source": [
    "\n",
    "In terms of experience, changes in learning performance over time. Determine whether a model is underfit, overfit, or well-fit. , To determine if the train and validation datasets are representative of the issue domain, The preceding graphs indicate that this model has an overfitting problem.\n",
    "\n",
    "The training loss lowers as the number of epochs grows, whereas the validation loss falls at first and subsequently climbs considerably. This is the point in the model where the overfitting issue first appeared.\n",
    "\n",
    "The accuracy curve shows how accurate the model is. The better the model, the higher the accuracy. The precision of training improves dramatically at first, but subsequently plateaus. The validation accuracy rises at first, but subsequently falls as the number of epochs rises. Overfitting is indicated by a decrease in validation accuracy.\n"
   ]
  },
  {
   "cell_type": "markdown",
   "metadata": {
    "id": "UYabzgSGYTp5"
   },
   "source": [
    "---"
   ]
  },
  {
   "cell_type": "markdown",
   "metadata": {
    "id": "y3RQVnBOYTp5"
   },
   "source": [
    "---\n",
    "### ** >>> Exercise 7 (Take home): **  \n",
    "\n",
    "Now, we have the word vectors, but our input data is a sequence of words (or say sentence). \n",
    "How can we utilize these \"word\" vectors to represent the sentence data and train our model?\n"
   ]
  },
  {
   "cell_type": "markdown",
   "metadata": {
    "execution": {
     "iopub.execute_input": "2022-11-21T14:30:45.024971Z",
     "iopub.status.busy": "2022-11-21T14:30:45.024008Z",
     "iopub.status.idle": "2022-11-21T14:30:45.033382Z",
     "shell.execute_reply": "2022-11-21T14:30:45.031685Z",
     "shell.execute_reply.started": "2022-11-21T14:30:45.024932Z"
    },
    "id": "TBwRT93DYTp5"
   },
   "source": [
    "### Answer here\n",
    "\n",
    "There could be several things that could be performed one of could be calculating average vector of all words by using word2vec where the average would be our sentence vector also we could take the vector and multiply it by TFIDF and then take the average also after that using sentence vector as input data to train our model.\n",
    "\n",
    "There might be ways to get sentence vector more easily maybe just like averaging to all words to get sentence features however which definitely wont be good.\n"
   ]
  },
  {
   "cell_type": "markdown",
   "metadata": {
    "id": "2PL61rqYYTp5"
   },
   "source": [
    "---\n",
    "### ** >>> Exercise 8 (Take home): **  \n",
    "\n",
    "Generate a t-SNE visualization to show the 15 words most related to the words \"angry\", \"happy\", \"sad\", \"fear\" (60 words total)."
   ]
  },
  {
   "cell_type": "code",
   "execution_count": 76,
   "metadata": {
    "execution": {
     "iopub.execute_input": "2022-11-21T14:33:43.156969Z",
     "iopub.status.busy": "2022-11-21T14:33:43.156589Z",
     "iopub.status.idle": "2022-11-21T14:33:44.660786Z",
     "shell.execute_reply": "2022-11-21T14:33:44.659642Z",
     "shell.execute_reply.started": "2022-11-21T14:33:43.156923Z"
    },
    "id": "rvh7ymeNYTp5"
   },
   "outputs": [],
   "source": [
    "# Answer here\n",
    "word_list = ['angry', 'happy', 'sad', 'fear']\n",
    "\n",
    "topn = 15\n",
    "angry_words = ['angry'] + [word_ for word_, sim_ in w2v_google_model.most_similar('angry', topn=topn)]       \n",
    "happy_words = ['happy'] + [word_ for word_, sim_ in w2v_google_model.most_similar('happy', topn=topn)]       \n",
    "sad_words = ['sad'] + [word_ for word_, sim_ in w2v_google_model.most_similar('sad', topn=topn)]       \n",
    "fear_words = ['fear'] + [word_ for word_, sim_ in w2v_google_model.most_similar('fear', topn=topn)]       \n",
    "\n",
    "\n",
    "target_words = angry_words + happy_words + sad_words + fear_words\n",
    "\n",
    "cn = topn + 1\n",
    "color = ['b'] * cn + ['g'] * cn + ['r'] * cn + ['y'] * cn"
   ]
  },
  {
   "cell_type": "code",
   "execution_count": 77,
   "metadata": {
    "execution": {
     "iopub.execute_input": "2022-11-21T14:33:55.838923Z",
     "iopub.status.busy": "2022-11-21T14:33:55.838192Z",
     "iopub.status.idle": "2022-11-21T14:33:58.223359Z",
     "shell.execute_reply": "2022-11-21T14:33:58.222192Z",
     "shell.execute_reply.started": "2022-11-21T14:33:55.838888Z"
    }
   },
   "outputs": [
    {
     "data": {
      "image/png": "[encoded data removed]",
      "text/plain": [
       "<Figure size 862.5x862.5 with 1 Axes>"
      ]
     },
     "metadata": {
      "needs_background": "light"
     },
     "output_type": "display_data"
    }
   ],
   "source": [
    "%matplotlib inline\n",
    "import matplotlib.pyplot as plt\n",
    "from sklearn.manifold import TSNE\n",
    "\n",
    "model = w2v_google_model\n",
    "\n",
    "size = 200\n",
    "target_size = len(target_words)\n",
    "all_word = list(model.index_to_key)\n",
    "word_train = target_words + all_word[:size]\n",
    "X_train = model[word_train]\n",
    "\n",
    "tsne = TSNE(n_components=2, metric='cosine', random_state=28)\n",
    "\n",
    "X_tsne = tsne.fit_transform(X_train)\n",
    "\n",
    "plt.figure(figsize=(7.5, 7.5), dpi=115)\n",
    "plt.scatter(X_tsne[:target_size, 0], X_tsne[:target_size, 1], c=color)\n",
    "for label, x, y in zip(target_words, X_tsne[:target_size, 0], X_tsne[:target_size, 1]):\n",
    "    plt.annotate(label, xy=(x,y), xytext=(0,0),  textcoords='offset points')\n",
    "plt.show()"
   ]
  },
  {
   "cell_type": "markdown",
   "metadata": {
    "id": "_fF1woa8YTp5"
   },
   "source": [
    "---"
   ]
  }
 ],
 "metadata": {
  "kernelspec": {
   "display_name": "Python 3 (ipykernel)",
   "language": "python",
   "name": "python3"
  },
  "language_info": {
   "codemirror_mode": {
    "name": "ipython",
    "version": 3
   },
   "file_extension": ".py",
   "mimetype": "text/x-python",
   "name": "python",
   "nbconvert_exporter": "python",
   "pygments_lexer": "ipython3",
   "version": "3.8.13"
  }
 },
 "nbformat": 4,
 "nbformat_minor": 4
}
